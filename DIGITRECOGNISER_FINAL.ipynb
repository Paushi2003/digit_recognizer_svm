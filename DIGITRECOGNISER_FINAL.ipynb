{
 "cells": [
  {
   "cell_type": "code",
   "execution_count": 1,
   "metadata": {},
   "outputs": [],
   "source": [
    "import tensorflow as tf\n",
    "import tensorflowjs as tfjs\n",
    "from tensorflow import keras"
   ]
  },
  {
   "cell_type": "code",
   "execution_count": 2,
   "metadata": {},
   "outputs": [],
   "source": [
    "# split the mnist data into train and test\n",
    "(train_img,train_label),(test_img,test_label) = keras.datasets.mnist.load_data()\n",
    " \n",
    "# reshape and scale the data\n",
    "train_img = train_img.reshape([-1, 28, 28, 1])\n",
    "test_img = test_img.reshape([-1, 28, 28, 1])\n",
    "train_img = train_img/255.0\n",
    "test_img = test_img/255.0\n",
    " \n",
    "# convert class vectors to binary class matrices --> one-hot encoding\n",
    "train_label = keras.utils.to_categorical(train_label)\n",
    "test_label = keras.utils.to_categorical(test_label)"
   ]
  },
  {
   "cell_type": "code",
   "execution_count": 3,
   "metadata": {},
   "outputs": [],
   "source": [
    "model = keras.Sequential([\n",
    "    keras.layers.Conv2D(32, (5, 5), padding=\"same\", input_shape=[28, 28, 1]),\n",
    "    keras.layers.MaxPool2D((2,2)),\n",
    "    keras.layers.Conv2D(64, (5, 5), padding=\"same\"),\n",
    "    keras.layers.MaxPool2D((2,2)),\n",
    "    keras.layers.Flatten(),\n",
    "    keras.layers.Dense(1024, activation='relu'),\n",
    "    keras.layers.Dropout(0.2),\n",
    "    keras.layers.Dense(10, activation='softmax')\n",
    "])\n",
    "model.compile(optimizer='adam', loss='categorical_crossentropy', metrics=['accuracy'])"
   ]
  },
  {
   "cell_type": "code",
   "execution_count": 4,
   "metadata": {},
   "outputs": [
    {
     "name": "stdout",
     "output_type": "stream",
     "text": [
      "Epoch 1/15\n",
      "1875/1875 [==============================] - 127s 68ms/step - loss: 0.1189 - accuracy: 0.9632 - val_loss: 0.0774 - val_accuracy: 0.9751\n",
      "Epoch 2/15\n",
      "1875/1875 [==============================] - 133s 71ms/step - loss: 0.0555 - accuracy: 0.9832 - val_loss: 0.0500 - val_accuracy: 0.9845\n",
      "Epoch 3/15\n",
      "1875/1875 [==============================] - 132s 70ms/step - loss: 0.0439 - accuracy: 0.9877 - val_loss: 0.0496 - val_accuracy: 0.9885\n",
      "Epoch 4/15\n",
      "1875/1875 [==============================] - 137s 73ms/step - loss: 0.0401 - accuracy: 0.9887 - val_loss: 0.0433 - val_accuracy: 0.9896\n",
      "Epoch 5/15\n",
      "1875/1875 [==============================] - 128s 68ms/step - loss: 0.0353 - accuracy: 0.9908 - val_loss: 0.0541 - val_accuracy: 0.9882\n",
      "Epoch 6/15\n",
      "1875/1875 [==============================] - 131s 70ms/step - loss: 0.0349 - accuracy: 0.9914 - val_loss: 0.0608 - val_accuracy: 0.9869\n",
      "Epoch 7/15\n",
      "1875/1875 [==============================] - 129s 69ms/step - loss: 0.0311 - accuracy: 0.9928 - val_loss: 0.0752 - val_accuracy: 0.9845\n",
      "Epoch 8/15\n",
      "1875/1875 [==============================] - 133s 71ms/step - loss: 0.0345 - accuracy: 0.9928 - val_loss: 0.0939 - val_accuracy: 0.9884\n",
      "Epoch 9/15\n",
      "1875/1875 [==============================] - 128s 68ms/step - loss: 0.0370 - accuracy: 0.9928 - val_loss: 0.0733 - val_accuracy: 0.9891\n",
      "Epoch 10/15\n",
      "1875/1875 [==============================] - 119s 63ms/step - loss: 0.0326 - accuracy: 0.9934 - val_loss: 0.1022 - val_accuracy: 0.9890\n",
      "Epoch 11/15\n",
      "1875/1875 [==============================] - 123s 66ms/step - loss: 0.0348 - accuracy: 0.9939 - val_loss: 0.0840 - val_accuracy: 0.9882\n",
      "Epoch 12/15\n",
      "1875/1875 [==============================] - 121s 64ms/step - loss: 0.0392 - accuracy: 0.9940 - val_loss: 0.1390 - val_accuracy: 0.9888\n",
      "Epoch 13/15\n",
      "1875/1875 [==============================] - 128s 68ms/step - loss: 0.0393 - accuracy: 0.9945 - val_loss: 0.1070 - val_accuracy: 0.9895\n",
      "Epoch 14/15\n",
      "1875/1875 [==============================] - 132s 71ms/step - loss: 0.0405 - accuracy: 0.9948 - val_loss: 0.1577 - val_accuracy: 0.9886\n",
      "Epoch 15/15\n",
      "1875/1875 [==============================] - 127s 68ms/step - loss: 0.0443 - accuracy: 0.9946 - val_loss: 0.1435 - val_accuracy: 0.9893\n",
      "313/313 [==============================] - 5s 17ms/step - loss: 0.1435 - accuracy: 0.9893\n",
      "Test accuracy: 0.989300012588501\n"
     ]
    }
   ],
   "source": [
    "model.fit(train_img,train_label, validation_data=(test_img,test_label), epochs=15)\n",
    "test_loss,test_acc = model.evaluate(test_img, test_label)\n",
    "print('Test accuracy:', test_acc)"
   ]
  },
  {
   "cell_type": "code",
   "execution_count": 10,
   "metadata": {},
   "outputs": [
    {
     "name": "stdout",
     "output_type": "stream",
     "text": [
      "1/1 [==============================] - 0s 18ms/step\n",
      "1/1 [==============================] - 0s 15ms/step\n",
      "1/1 [==============================] - 0s 16ms/step\n",
      "1/1 [==============================] - 0s 18ms/step\n",
      "1/1 [==============================] - 0s 16ms/step\n",
      "1/1 [==============================] - 0s 19ms/step\n",
      "1/1 [==============================] - 0s 16ms/step\n",
      "1/1 [==============================] - 0s 19ms/step\n",
      "1/1 [==============================] - 0s 18ms/step\n"
     ]
    }
   ],
   "source": [
    "from keras.models import load_model\n",
    "from tkinter import *\n",
    "import tkinter as tk\n",
    "import win32gui\n",
    "from PIL import ImageGrab, Image\n",
    "import numpy as np\n",
    "\n",
    "#model = load_model('mnist.h5')\n",
    "\n",
    "def predict_digit(img):\n",
    "    #resize image to 28x28 pixels\n",
    "    img = img.resize((28,28))\n",
    "    #convert rgb to grayscale\n",
    "    img = img.convert('L')\n",
    "    img = np.array(img)\n",
    "    #reshaping to support our model input and normalizing\n",
    "    img = img.reshape(1,28,28,1)\n",
    "    img = img/255.0\n",
    "    #predicting the class\n",
    "    res = model.predict([img])[0]\n",
    "    return np.argmax(res), max(res)\n",
    "\n",
    "class App(tk.Tk):\n",
    "    def __init__(self):\n",
    "        tk.Tk.__init__(self)\n",
    "\n",
    "        self.x = self.y = 0\n",
    "        \n",
    "        # Creating elements\n",
    "        self.canvas = tk.Canvas(self, width=300, height=300, bg = \"white\", cursor=\"cross\")\n",
    "        self.label = tk.Label(self, text=\"Draw..\", font=(\"Helvetica\", 48))\n",
    "        self.classify_btn = tk.Button(self, text = \"Recognise\", command = self.classify_handwriting)   \n",
    "        self.button_clear = tk.Button(self, text = \"Clear\", command = self.clear_all)\n",
    "       \n",
    "        # Grid structure\n",
    "        self.canvas.grid(row=0, column=0, pady=2, sticky=W, )\n",
    "        self.label.grid(row=0, column=1,pady=2, padx=2)\n",
    "        self.classify_btn.grid(row=1, column=1, pady=2, padx=2)\n",
    "        self.button_clear.grid(row=1, column=0, pady=2)\n",
    "        \n",
    "        #self.canvas.bind(\"<Motion>\", self.start_pos)\n",
    "        self.canvas.bind(\"<B1-Motion>\", self.draw_lines)\n",
    "\n",
    "    def clear_all(self):\n",
    "        self.canvas.delete(\"all\")\n",
    "        \n",
    "    def classify_handwriting(self):\n",
    "        HWND = self.canvas.winfo_id()  # get the handle of the canvas\n",
    "        rect = win32gui.GetWindowRect(HWND)  # get the coordinate of the canvas\n",
    "        a,b,c,d = rect\n",
    "        rect=(a+4,b+4,c-4,d-4)\n",
    "        im = ImageGrab.grab(rect)\n",
    "\n",
    "        digit, acc = predict_digit(im)\n",
    "        self.label.configure(text= str(digit)+', '+ str(int(acc*100))+'%')\n",
    "\n",
    "    def draw_lines(self, event):\n",
    "        self.x = event.x\n",
    "        self.y = event.y\n",
    "        r=8\n",
    "        self.canvas.create_oval(self.x-r, self.y-r, self.x + r, self.y + r, fill='black')\n",
    "       \n",
    "app = App()\n",
    "mainloop()"
   ]
  }
 ],
 "metadata": {
  "kernelspec": {
   "display_name": "Python 3",
   "language": "python",
   "name": "python3"
  },
  "language_info": {
   "codemirror_mode": {
    "name": "ipython",
    "version": 3
   },
   "file_extension": ".py",
   "mimetype": "text/x-python",
   "name": "python",
   "nbconvert_exporter": "python",
   "pygments_lexer": "ipython3",
   "version": "3.8.5"
  }
 },
 "nbformat": 4,
 "nbformat_minor": 4
}
